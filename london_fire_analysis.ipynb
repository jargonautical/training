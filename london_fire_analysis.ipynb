{
 "cells": [
  {
   "cell_type": "code",
   "execution_count": 1,
   "metadata": {
    "collapsed": true
   },
   "outputs": [],
   "source": [
    "# coding: utf-8"
   ]
  },
  {
   "cell_type": "code",
   "execution_count": 13,
   "metadata": {},
   "outputs": [
    {
     "data": {
      "text/html": [
       "<div>\n",
       "<style>\n",
       "    .dataframe thead tr:only-child th {\n",
       "        text-align: right;\n",
       "    }\n",
       "\n",
       "    .dataframe thead th {\n",
       "        text-align: left;\n",
       "    }\n",
       "\n",
       "    .dataframe tbody tr th {\n",
       "        vertical-align: top;\n",
       "    }\n",
       "</style>\n",
       "<table border=\"1\" class=\"dataframe\">\n",
       "  <thead>\n",
       "    <tr style=\"text-align: right;\">\n",
       "      <th></th>\n",
       "      <th>dateofcall</th>\n",
       "      <th>incidentgroup</th>\n",
       "      <th>stopcodedescription</th>\n",
       "      <th>propertycategory</th>\n",
       "      <th>propertytype</th>\n",
       "      <th>addressqualifier</th>\n",
       "      <th>postcode_district</th>\n",
       "      <th>incgeo_boroughname</th>\n",
       "      <th>incgeo_wardname</th>\n",
       "      <th>incidentstationground</th>\n",
       "      <th>firstpumparriving_attendancetime</th>\n",
       "      <th>firstpumparriving_deployedfromstation</th>\n",
       "      <th>secondpumparriving_attendancetime</th>\n",
       "      <th>secondpumparriving_deployedfromstation</th>\n",
       "    </tr>\n",
       "  </thead>\n",
       "  <tbody>\n",
       "    <tr>\n",
       "      <th>0</th>\n",
       "      <td>07-jan-14</td>\n",
       "      <td>false alarm</td>\n",
       "      <td>afa</td>\n",
       "      <td>non residential</td>\n",
       "      <td>warehouse</td>\n",
       "      <td>correct incident address</td>\n",
       "      <td>sw19</td>\n",
       "      <td>merton</td>\n",
       "      <td>wimbledon park</td>\n",
       "      <td>wimbledon</td>\n",
       "      <td>347.0</td>\n",
       "      <td>wimbledon</td>\n",
       "      <td>NaN</td>\n",
       "      <td>NaN</td>\n",
       "    </tr>\n",
       "    <tr>\n",
       "      <th>1</th>\n",
       "      <td>07-jan-14</td>\n",
       "      <td>special service</td>\n",
       "      <td>special service</td>\n",
       "      <td>road vehicle</td>\n",
       "      <td>car</td>\n",
       "      <td>in street outside</td>\n",
       "      <td>rm3</td>\n",
       "      <td>havering</td>\n",
       "      <td>gooshays</td>\n",
       "      <td>harold hill</td>\n",
       "      <td>338.0</td>\n",
       "      <td>romford</td>\n",
       "      <td>362.0</td>\n",
       "      <td>harold hill</td>\n",
       "    </tr>\n",
       "    <tr>\n",
       "      <th>2</th>\n",
       "      <td>07-jan-14</td>\n",
       "      <td>fire</td>\n",
       "      <td>secondary fire</td>\n",
       "      <td>outdoor</td>\n",
       "      <td>tree scrub</td>\n",
       "      <td>in street outside</td>\n",
       "      <td>se3</td>\n",
       "      <td>greenwich</td>\n",
       "      <td>blackheath westcombe</td>\n",
       "      <td>lee green</td>\n",
       "      <td>347.0</td>\n",
       "      <td>lee green</td>\n",
       "      <td>NaN</td>\n",
       "      <td>NaN</td>\n",
       "    </tr>\n",
       "    <tr>\n",
       "      <th>3</th>\n",
       "      <td>07-jan-14</td>\n",
       "      <td>false alarm</td>\n",
       "      <td>afa</td>\n",
       "      <td>non residential</td>\n",
       "      <td>purpose built office</td>\n",
       "      <td>correct incident address</td>\n",
       "      <td>ec4a</td>\n",
       "      <td>city of london</td>\n",
       "      <td>farringdon without</td>\n",
       "      <td>soho</td>\n",
       "      <td>229.0</td>\n",
       "      <td>clerkenwell</td>\n",
       "      <td>NaN</td>\n",
       "      <td>NaN</td>\n",
       "    </tr>\n",
       "    <tr>\n",
       "      <th>4</th>\n",
       "      <td>07-jan-14</td>\n",
       "      <td>special service</td>\n",
       "      <td>special service</td>\n",
       "      <td>dwelling</td>\n",
       "      <td>house - single occupancy</td>\n",
       "      <td>nearby address - street not listed</td>\n",
       "      <td>nw1</td>\n",
       "      <td>camden</td>\n",
       "      <td>regent's park</td>\n",
       "      <td>euston</td>\n",
       "      <td>303.0</td>\n",
       "      <td>euston</td>\n",
       "      <td>NaN</td>\n",
       "      <td>NaN</td>\n",
       "    </tr>\n",
       "  </tbody>\n",
       "</table>\n",
       "</div>"
      ],
      "text/plain": [
       "  dateofcall    incidentgroup stopcodedescription propertycategory  \\\n",
       "0  07-jan-14      false alarm                 afa  non residential   \n",
       "1  07-jan-14  special service     special service     road vehicle   \n",
       "2  07-jan-14             fire      secondary fire          outdoor   \n",
       "3  07-jan-14      false alarm                 afa  non residential   \n",
       "4  07-jan-14  special service     special service         dwelling   \n",
       "\n",
       "                propertytype                    addressqualifier  \\\n",
       "0                 warehouse             correct incident address   \n",
       "1                       car                    in street outside   \n",
       "2                tree scrub                    in street outside   \n",
       "3      purpose built office             correct incident address   \n",
       "4  house - single occupancy   nearby address - street not listed   \n",
       "\n",
       "  postcode_district incgeo_boroughname       incgeo_wardname  \\\n",
       "0              sw19             merton        wimbledon park   \n",
       "1               rm3           havering              gooshays   \n",
       "2               se3          greenwich  blackheath westcombe   \n",
       "3              ec4a     city of london    farringdon without   \n",
       "4               nw1             camden         regent's park   \n",
       "\n",
       "  incidentstationground  firstpumparriving_attendancetime  \\\n",
       "0             wimbledon                             347.0   \n",
       "1           harold hill                             338.0   \n",
       "2             lee green                             347.0   \n",
       "3                  soho                             229.0   \n",
       "4                euston                             303.0   \n",
       "\n",
       "  firstpumparriving_deployedfromstation  secondpumparriving_attendancetime  \\\n",
       "0                             wimbledon                                NaN   \n",
       "1                               romford                              362.0   \n",
       "2                             lee green                                NaN   \n",
       "3                           clerkenwell                                NaN   \n",
       "4                                euston                                NaN   \n",
       "\n",
       "  secondpumparriving_deployedfromstation  \n",
       "0                                    NaN  \n",
       "1                            harold hill  \n",
       "2                                    NaN  \n",
       "3                                    NaN  \n",
       "4                                    NaN  "
      ]
     },
     "execution_count": 13,
     "metadata": {},
     "output_type": "execute_result"
    }
   ],
   "source": [
    "import pandas as pd\n",
    "data = pd.read_csv(\"~/Desktop/sample datasets/LF_analysis.csv\", sep=',')\n",
    "df = pd.DataFrame(data)\n",
    "times1 = pd.Series(df.firstpumparriving_attendancetime/60)\n",
    "times2 = pd.Series(df.secondpumparriving_attendancetime/60)\n",
    "df.head()"
   ]
  },
  {
   "cell_type": "code",
   "execution_count": null,
   "metadata": {
    "collapsed": true
   },
   "outputs": [],
   "source": []
  },
  {
   "cell_type": "code",
   "execution_count": 53,
   "metadata": {},
   "outputs": [
    {
     "data": {
      "text/plain": [
       "<matplotlib.axes._subplots.AxesSubplot at 0x11a4450b8>"
      ]
     },
     "execution_count": 53,
     "metadata": {},
     "output_type": "execute_result"
    },
    {
     "data": {
      "image/png": "[encoded data removed]",
      "text/plain": [
       "<matplotlib.figure.Figure at 0x11a881be0>"
      ]
     },
     "metadata": {},
     "output_type": "display_data"
    }
   ],
   "source": [
    "import matplotlib.pyplot as plt\n",
    "% matplotlib inline\n",
    "#get_ipython().magic(u'matplotlib notebook')\n",
    "\n",
    "times1.hist(bins=50, alpha=0.5)\n",
    "times2.hist(bins=50, alpha=0.5, color='red')"
   ]
  },
  {
   "cell_type": "code",
   "execution_count": 31,
   "metadata": {},
   "outputs": [],
   "source": [
    "#times1.describe()"
   ]
  },
  {
   "cell_type": "code",
   "execution_count": 30,
   "metadata": {},
   "outputs": [],
   "source": [
    "#times2.describe()"
   ]
  },
  {
   "cell_type": "code",
   "execution_count": 29,
   "metadata": {},
   "outputs": [
    {
     "name": "stdout",
     "output_type": "stream",
     "text": [
      "Average response times are 5.347683 for the first pump arriving, and 6.756922 for the second pump arriving.\n"
     ]
    }
   ],
   "source": [
    "av1 = times1.mean()\n",
    "av2 = times2.mean()\n",
    "med1 = times1.median()\n",
    "med2 = times2.median()\n",
    "print (\"Average response times are %f for the first pump arriving, and %f for the second pump arriving.\" % (av1, av2))"
   ]
  },
  {
   "cell_type": "code",
   "execution_count": 32,
   "metadata": {},
   "outputs": [
    {
     "data": {
      "text/html": [
       "<div>\n",
       "<style>\n",
       "    .dataframe thead tr:only-child th {\n",
       "        text-align: right;\n",
       "    }\n",
       "\n",
       "    .dataframe thead th {\n",
       "        text-align: left;\n",
       "    }\n",
       "\n",
       "    .dataframe tbody tr th {\n",
       "        vertical-align: top;\n",
       "    }\n",
       "</style>\n",
       "<table border=\"1\" class=\"dataframe\">\n",
       "  <thead>\n",
       "    <tr style=\"text-align: right;\">\n",
       "      <th></th>\n",
       "      <th>stopcodedescription</th>\n",
       "      <th>firstpumparriving_attendancetime</th>\n",
       "    </tr>\n",
       "  </thead>\n",
       "  <tbody>\n",
       "    <tr>\n",
       "      <th>0</th>\n",
       "      <td>afa</td>\n",
       "      <td>347.0</td>\n",
       "    </tr>\n",
       "    <tr>\n",
       "      <th>1</th>\n",
       "      <td>special service</td>\n",
       "      <td>338.0</td>\n",
       "    </tr>\n",
       "    <tr>\n",
       "      <th>2</th>\n",
       "      <td>secondary fire</td>\n",
       "      <td>347.0</td>\n",
       "    </tr>\n",
       "    <tr>\n",
       "      <th>3</th>\n",
       "      <td>afa</td>\n",
       "      <td>229.0</td>\n",
       "    </tr>\n",
       "    <tr>\n",
       "      <th>4</th>\n",
       "      <td>special service</td>\n",
       "      <td>303.0</td>\n",
       "    </tr>\n",
       "  </tbody>\n",
       "</table>\n",
       "</div>"
      ],
      "text/plain": [
       "  stopcodedescription  firstpumparriving_attendancetime\n",
       "0                 afa                             347.0\n",
       "1     special service                             338.0\n",
       "2      secondary fire                             347.0\n",
       "3                 afa                             229.0\n",
       "4     special service                             303.0"
      ]
     },
     "execution_count": 32,
     "metadata": {},
     "output_type": "execute_result"
    }
   ],
   "source": [
    "reason = df.loc[:,['stopcodedescription','firstpumparriving_attendancetime']]\n",
    "reason.head()"
   ]
  },
  {
   "cell_type": "code",
   "execution_count": 54,
   "metadata": {},
   "outputs": [
    {
     "data": {
      "text/plain": [
       "<matplotlib.axes._subplots.AxesSubplot at 0x11b001668>"
      ]
     },
     "execution_count": 54,
     "metadata": {},
     "output_type": "execute_result"
    },
    {
     "data": {
      "image/png": "[encoded data removed]",
      "text/plain": [
       "<matplotlib.figure.Figure at 0x11b2cc0b8>"
      ]
     },
     "metadata": {},
     "output_type": "display_data"
    }
   ],
   "source": [
    "reason['stopcodedescription'].value_counts().plot(kind='bar')"
   ]
  },
  {
   "cell_type": "code",
   "execution_count": null,
   "metadata": {
    "collapsed": true
   },
   "outputs": [],
   "source": []
  }
 ],
 "metadata": {
  "kernelspec": {
   "display_name": "Python 3",
   "language": "python",
   "name": "python3"
  },
  "language_info": {
   "codemirror_mode": {
    "name": "ipython",
    "version": 3
   },
   "file_extension": ".py",
   "mimetype": "text/x-python",
   "name": "python",
   "nbconvert_exporter": "python",
   "pygments_lexer": "ipython3",
   "version": "3.6.1"
  }
 },
 "nbformat": 4,
 "nbformat_minor": 2
}
